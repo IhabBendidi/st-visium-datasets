{
 "cells": [
  {
   "cell_type": "markdown",
   "id": "9d33a15c-3f55-4206-92b9-eb23d6835881",
   "metadata": {},
   "source": [
    "# Load 'Visium' Spatial transcriptomics datasets\n",
    "\n",
    "This library provides an interface to load 10xGenomics (visium) 'spatial gene expression' datasets.\n",
    "Datasets are adapted from [here](https://www.10xgenomics.com/resources/datasets?query=&page=1&configure%5BhitsPerPage%5D=50&configure%5BmaxValuesPerFacet%5D=1000&refinementList%5Bproduct.name%5D%5B0%5D=Spatial%20Gene%20Expression)\n",
    "\n",
    "This library uses the popular huggingface datasets format for sharing the datasets, it is recommended to cross-reference with datasets [documentation](https://huggingface.co/) when dusing this library."
   ]
  },
  {
   "cell_type": "code",
   "execution_count": null,
   "id": "87aa2104-1e5c-417b-9c97-d1c93104143c",
   "metadata": {},
   "outputs": [],
   "source": [
    "from st_visium_datasets import setup_logging\n",
    "\n",
    "setup_logging()"
   ]
  },
  {
   "cell_type": "markdown",
   "id": "88bb6b08-26e6-4977-8023-d1c26da1eda0",
   "metadata": {},
   "source": [
    "## List availlable dataset names\n",
    "\n",
    "In huggingface nomenclature, this project provides a single dataset called `visium`, with different possible [configurations](https://huggingface.co/docs/datasets/load_hub#configurations).\n",
    "\n",
    "The default config for `visium` is `all`: it contains an aggregation of all existing configs.\n",
    "\n",
    "To get a list of all availlable configs, `list_visium_datasets` can be used.\n",
    "\n",
    "Config names are generally in the format: `<species>_<anatomical_entity>`"
   ]
  },
  {
   "cell_type": "code",
   "execution_count": null,
   "id": "52f5b9c6-4504-491e-b9f6-41636b5787c4",
   "metadata": {},
   "outputs": [],
   "source": [
    "from st_visium_datasets import list_visium_datasets\n",
    "\n",
    "dataset_names = list_visium_datasets()\n",
    "dataset_names"
   ]
  },
  {
   "cell_type": "markdown",
   "id": "73451f3d-365f-4b75-8021-d83dcda968e0",
   "metadata": {},
   "source": [
    "## Simple stats\n",
    "\n",
    "An important information about each dataset is the number of spots under tissue, and the number of genes detected. `st_visium_datasets` provides this information directly per dataset config name"
   ]
  },
  {
   "cell_type": "code",
   "execution_count": null,
   "id": "1f04e51b-0473-4391-acf4-824591b52cb0",
   "metadata": {},
   "outputs": [],
   "source": [
    "from st_visium_datasets import gen_visium_dataset_stat\n",
    "\n",
    "gen_visium_dataset_stat(\"human\") # returns a dict"
   ]
  },
  {
   "cell_type": "markdown",
   "id": "102121bd-453f-4db4-9eaf-ebe1a3372657",
   "metadata": {},
   "source": [
    "To view stats for all avillable datasets, you can use:"
   ]
  },
  {
   "cell_type": "code",
   "execution_count": null,
   "id": "60ccda56-5abe-4f08-9e83-9532f844fe4c",
   "metadata": {},
   "outputs": [],
   "source": [
    "from st_visium_datasets import gen_visium_dataset_stat_table\n",
    "\n",
    "print(gen_visium_dataset_stat_table())"
   ]
  },
  {
   "cell_type": "markdown",
   "id": "755dd792-21f7-47d4-952a-9cac718b0b78",
   "metadata": {},
   "source": [
    "## Load a 'visium' dataset\n",
    "\n",
    "Before you take the time to download a dataset, it’s often helpful to quickly get some general information about a dataset. A dataset’s information is stored inside DatasetInfo and can include information such as the dataset description, features, and dataset size.\n",
    "\n",
    "Use the `load_visium_dataset_builder` function to load a dataset builder and inspect a dataset’s attributes without committing to downloading it.\n",
    "\n",
    "Note: The `load_visium_dataset_builder` has exactly the same signature as `datasets.load_dataset_builder` (except for the `path` arg which is implicitly set to `visium`)"
   ]
  },
  {
   "cell_type": "code",
   "execution_count": null,
   "id": "229c0f4a-af40-46ac-8991-41e00d0956ce",
   "metadata": {},
   "outputs": [],
   "source": [
    "from st_visium_datasets import load_visium_dataset_builder\n",
    "\n",
    "ds_builder = load_visium_dataset_builder(\"human\")"
   ]
  },
  {
   "cell_type": "code",
   "execution_count": null,
   "id": "7273fe84-d790-4665-b6b4-8caeac168ab4",
   "metadata": {},
   "outputs": [],
   "source": [
    "# Inspect dataset description\n",
    "ds_builder.info.description"
   ]
  },
  {
   "cell_type": "code",
   "execution_count": null,
   "id": "19c386d9-7118-4341-a161-726fc7d7465b",
   "metadata": {},
   "outputs": [],
   "source": [
    "# Inspect dataset features\n",
    "for k, v in ds_builder.info.features.items():\n",
    "    print(f\"- {k}: {v}\")"
   ]
  },
  {
   "cell_type": "markdown",
   "id": "ed31f430-1e1a-4b34-8cc8-c22bafc9692b",
   "metadata": {},
   "source": [
    "If you’re happy with the dataset, then load it with `load_visium_dataset` (again, same api as `datasets.load_dataset`)\n",
    "\n",
    "To speed data download and loading, we make use of all multiprocessing cores availlable"
   ]
  },
  {
   "cell_type": "code",
   "execution_count": null,
   "id": "d24ad54e-ef41-4e45-8a13-913f07857812",
   "metadata": {
    "scrolled": true
   },
   "outputs": [],
   "source": [
    "from st_visium_datasets import load_visium_dataset\n",
    "\n",
    "num_proc = 2\n",
    "ds = load_visium_dataset(\"human\", num_proc=num_proc)"
   ]
  },
  {
   "cell_type": "code",
   "execution_count": null,
   "id": "8e642a06-3970-47b9-8899-f713a8ed382f",
   "metadata": {},
   "outputs": [],
   "source": []
  },
  {
   "cell_type": "code",
   "execution_count": null,
   "id": "8ebc577c-6988-4e86-acd3-80789f2f0c5a",
   "metadata": {},
   "outputs": [],
   "source": []
  },
  {
   "cell_type": "code",
   "execution_count": null,
   "id": "2b8b2ecd-98c6-404a-884d-48006b9a1a31",
   "metadata": {},
   "outputs": [],
   "source": []
  },
  {
   "cell_type": "code",
   "execution_count": null,
   "id": "b9aa4e66-115f-4bd9-8511-bb1eb6b94751",
   "metadata": {},
   "outputs": [],
   "source": []
  }
 ],
 "metadata": {
  "kernelspec": {
   "display_name": "Python 3 (ipykernel)",
   "language": "python",
   "name": "python3"
  },
  "language_info": {
   "codemirror_mode": {
    "name": "ipython",
    "version": 3
   },
   "file_extension": ".py",
   "mimetype": "text/x-python",
   "name": "python",
   "nbconvert_exporter": "python",
   "pygments_lexer": "ipython3",
   "version": "3.8.15"
  }
 },
 "nbformat": 4,
 "nbformat_minor": 5
}
