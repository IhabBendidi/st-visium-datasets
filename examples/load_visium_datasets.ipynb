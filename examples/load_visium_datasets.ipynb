{
 "cells": [
  {
   "cell_type": "markdown",
   "id": "9d33a15c-3f55-4206-92b9-eb23d6835881",
   "metadata": {},
   "source": [
    "# Load 'Visium' Spatial transcriptomics datasets\n",
    "\n",
    "This library provides an interface to load 10xGenomics (visium) 'spatial gene expression' datasets.\n",
    "Datasets are adapted from [here](https://www.10xgenomics.com/resources/datasets?query=&page=1&configure%5BhitsPerPage%5D=50&configure%5BmaxValuesPerFacet%5D=1000&refinementList%5Bproduct.name%5D%5B0%5D=Spatial%20Gene%20Expression)\n",
    "\n",
    "This library uses the popular huggingface datasets format for sharing the datasets, it is recommended to cross-reference with datasets [documentation](https://huggingface.co/) when dusing this library."
   ]
  },
  {
   "cell_type": "code",
   "execution_count": 1,
   "id": "87aa2104-1e5c-417b-9c97-d1c93104143c",
   "metadata": {},
   "outputs": [],
   "source": [
    "from st_visium_datasets import setup_logging\n",
    "\n",
    "setup_logging(level=\"DEBUG\")"
   ]
  },
  {
   "cell_type": "markdown",
   "id": "88bb6b08-26e6-4977-8023-d1c26da1eda0",
   "metadata": {},
   "source": [
    "## List availlable dataset names\n",
    "\n",
    "In huggingface nomenclature, this project provides a single dataset called `visium`, with different possible [configurations](https://huggingface.co/docs/datasets/load_hub#configurations).\n",
    "\n",
    "The default config for `visium` is `all`: it contains an aggregation of all existing configs.\n",
    "\n",
    "To get a list of all availlable configs, `list_visium_datasets` can be used.\n",
    "\n",
    "Config names are generally in the format: `<species>_<anatomical_entity>`"
   ]
  },
  {
   "cell_type": "code",
   "execution_count": 2,
   "id": "52f5b9c6-4504-491e-b9f6-41636b5787c4",
   "metadata": {},
   "outputs": [
    {
     "data": {
      "text/plain": [
       "['all',\n",
       " 'human',\n",
       " 'human_heart',\n",
       " 'human_lymph-node',\n",
       " 'human_kidney',\n",
       " 'human_colorectal',\n",
       " 'human_skin',\n",
       " 'human_prostate',\n",
       " 'human_ovary',\n",
       " 'human_brain',\n",
       " 'human_large-intestine',\n",
       " 'human_spinal-cord',\n",
       " 'human_cerebellum',\n",
       " 'human_brain-cerebellum',\n",
       " 'human_lung',\n",
       " 'human_breast',\n",
       " 'human_colon',\n",
       " 'mouse',\n",
       " 'mouse_olfactory-bulb',\n",
       " 'mouse_kidney',\n",
       " 'mouse_brain',\n",
       " 'mouse_kidney-brain',\n",
       " 'mouse_mouse-embryo',\n",
       " 'mouse_lung-brain']"
      ]
     },
     "execution_count": 2,
     "metadata": {},
     "output_type": "execute_result"
    }
   ],
   "source": [
    "from st_visium_datasets import list_visium_datasets\n",
    "\n",
    "dataset_names = list_visium_datasets()\n",
    "dataset_names"
   ]
  },
  {
   "cell_type": "markdown",
   "id": "73451f3d-365f-4b75-8021-d83dcda968e0",
   "metadata": {},
   "source": [
    "## Simple stats\n",
    "\n",
    "An important information about each dataset is the number of spots under tissue, and the number of genes detected. `st_visium_datasets` provides this information directly per dataset config name"
   ]
  },
  {
   "cell_type": "code",
   "execution_count": 3,
   "id": "1f04e51b-0473-4391-acf4-824591b52cb0",
   "metadata": {},
   "outputs": [
    {
     "data": {
      "text/plain": [
       "{'name': 'human_heart',\n",
       " 'number_of_spots_under_tissue': 8482,\n",
       " 'number_of_genes_detected': 40491}"
      ]
     },
     "execution_count": 3,
     "metadata": {},
     "output_type": "execute_result"
    }
   ],
   "source": [
    "from st_visium_datasets import gen_visium_dataset_stat\n",
    "\n",
    "gen_visium_dataset_stat(\"human_heart\") # returns a dict"
   ]
  },
  {
   "cell_type": "markdown",
   "id": "102121bd-453f-4db4-9eaf-ebe1a3372657",
   "metadata": {},
   "source": [
    "To view stats for all avillable datasets, you can use:"
   ]
  },
  {
   "cell_type": "code",
   "execution_count": 4,
   "id": "60ccda56-5abe-4f08-9e83-9532f844fe4c",
   "metadata": {},
   "outputs": [
    {
     "name": "stdout",
     "output_type": "stream",
     "text": [
      "| name                   |   number_of_spots_under_tissue |   number_of_genes_detected |\n",
      "|------------------------|--------------------------------|----------------------------|\n",
      "| all                    |                         344961 |                    1651817 |\n",
      "| human                  |                         192976 |                     863878 |\n",
      "| human_heart            |                           8482 |                      40491 |\n",
      "| human_lymph-node       |                           8074 |                      48178 |\n",
      "| human_kidney           |                           5936 |                      18068 |\n",
      "| human_colorectal       |                           9080 |                      18077 |\n",
      "| human_skin             |                           3458 |                      18069 |\n",
      "| human_prostate         |                          14334 |                      68215 |\n",
      "| human_ovary            |                          15153 |                      77975 |\n",
      "| human_brain            |                          27696 |                     110543 |\n",
      "| human_large-intestine  |                           6276 |                      39440 |\n",
      "| human_spinal-cord      |                           5624 |                      39951 |\n",
      "| human_cerebellum       |                           4992 |                      17355 |\n",
      "| human_brain-cerebellum |                           9984 |                      41163 |\n",
      "| human_lung             |                          10053 |                      36143 |\n",
      "| human_breast           |                          38063 |                     217985 |\n",
      "| human_colon            |                          25771 |                      72225 |\n",
      "| mouse                  |                         151985 |                     787939 |\n",
      "| mouse_olfactory-bulb   |                           2370 |                      38664 |\n",
      "| mouse_kidney           |                           6000 |                      57469 |\n",
      "| mouse_brain            |                         123254 |                     614201 |\n",
      "| mouse_kidney-brain     |                           2805 |                      19399 |\n",
      "| mouse_mouse-embryo     |                          12877 |                      38808 |\n",
      "| mouse_lung-brain       |                           4679 |                      19398 |\n"
     ]
    }
   ],
   "source": [
    "from st_visium_datasets import gen_visium_dataset_stat_table\n",
    "\n",
    "print(gen_visium_dataset_stat_table())"
   ]
  },
  {
   "cell_type": "markdown",
   "id": "755dd792-21f7-47d4-952a-9cac718b0b78",
   "metadata": {},
   "source": [
    "## Load a 'visium' dataset\n",
    "\n",
    "Before you take the time to download a dataset, it’s often helpful to quickly get some general information about a dataset. A dataset’s information is stored inside DatasetInfo and can include information such as the dataset description, features, and dataset size.\n",
    "\n",
    "Use the `load_visium_dataset_builder` function to load a dataset builder and inspect a dataset’s attributes without committing to downloading it.\n",
    "\n",
    "Note: The `load_visium_dataset_builder` has exactly the same signature as `datasets.load_dataset_builder` (except for the `path` arg which is implicitly set to `visium`)"
   ]
  },
  {
   "cell_type": "code",
   "execution_count": 5,
   "id": "229c0f4a-af40-46ac-8991-41e00d0956ce",
   "metadata": {},
   "outputs": [],
   "source": [
    "from st_visium_datasets import load_visium_dataset_builder\n",
    "\n",
    "ds_builder = load_visium_dataset_builder(\"human_heart\")"
   ]
  },
  {
   "cell_type": "code",
   "execution_count": 6,
   "id": "7273fe84-d790-4665-b6b4-8caeac168ab4",
   "metadata": {},
   "outputs": [
    {
     "data": {
      "text/plain": [
       "'Visium datasets for spatial transcriptomics. This dataset is a collection of the following datasets from 10x Genomics: v1-human-heart-1-0-0, v1-human-heart-1-1-0'"
      ]
     },
     "execution_count": 6,
     "metadata": {},
     "output_type": "execute_result"
    }
   ],
   "source": [
    "# Inspect dataset description\n",
    "ds_builder.info.description"
   ]
  },
  {
   "cell_type": "code",
   "execution_count": 7,
   "id": "19c386d9-7118-4341-a161-726fc7d7465b",
   "metadata": {},
   "outputs": [
    {
     "name": "stdout",
     "output_type": "stream",
     "text": [
      "- species: Value(dtype='string', id=None)\n",
      "- anatomical_entity: Value(dtype='string', id=None)\n",
      "- disease_state: Value(dtype='string', id=None)\n",
      "- spot_path: Value(dtype='string', id=None)\n",
      "- spot_bytes: Value(dtype='binary', id=None)\n",
      "- features_path: Value(dtype='string', id=None)\n",
      "- features: Sequence(feature={'feature_id': Value(dtype='string', id=None), 'feature_type': Value(dtype='string', id=None), 'gene': Value(dtype='string', id=None), 'count': Value(dtype='int64', id=None)}, length=-1, id=None)\n"
     ]
    }
   ],
   "source": [
    "# Inspect dataset features\n",
    "for k, v in ds_builder.info.features.items():\n",
    "    print(f\"- {k}: {v}\")"
   ]
  },
  {
   "cell_type": "markdown",
   "id": "ed31f430-1e1a-4b34-8cc8-c22bafc9692b",
   "metadata": {},
   "source": [
    "If you’re happy with the dataset, then load it with `load_visium_dataset` (again, same api as `datasets.load_dataset`)\n",
    "\n",
    "To speed data download and loading, we can use multiprocessing (please make sure in that case to have enough RAM in your machine, to support loadding multiple large tiff images into memory at the same time)"
   ]
  },
  {
   "cell_type": "code",
   "execution_count": 8,
   "id": "d24ad54e-ef41-4e45-8a13-913f07857812",
   "metadata": {
    "scrolled": true
   },
   "outputs": [
    {
     "name": "stderr",
     "output_type": "stream",
     "text": [
      "Building datasets ...: 100%|████████████████████████████████████████████████████████████████████████████████████████████████████████████████████| 2/2 [00:00<00:00,  5.46it/s]\n"
     ]
    },
    {
     "data": {
      "application/vnd.jupyter.widget-view+json": {
       "model_id": "e93d573906ca46ee91f988ec2459caa1",
       "version_major": 2,
       "version_minor": 0
      },
      "text/plain": [
       "Generating default split: 0 examples [00:00, ? examples/s]"
      ]
     },
     "metadata": {},
     "output_type": "display_data"
    }
   ],
   "source": [
    "from st_visium_datasets import load_visium_dataset\n",
    "\n",
    "num_proc = 2\n",
    "ds = load_visium_dataset(\"human_heart\", num_proc=num_proc)"
   ]
  },
  {
   "cell_type": "code",
   "execution_count": 14,
   "id": "8e642a06-3970-47b9-8899-f713a8ed382f",
   "metadata": {},
   "outputs": [
    {
     "data": {
      "text/plain": [
       "array([147,  78,  85, ..., 164, 140, 149], dtype=uint8)"
      ]
     },
     "metadata": {},
     "output_type": "display_data"
    }
   ],
   "source": [
    "import numpy as np\n",
    "from IPython.display import display, Image\n",
    "\n",
    "spot = np.frombuffer(ds[0][\"spot_bytes\"], dtype=np.uint8)\n",
    "display(Image(data=spot))"
   ]
  },
  {
   "cell_type": "code",
   "execution_count": null,
   "id": "8ebc577c-6988-4e86-acd3-80789f2f0c5a",
   "metadata": {},
   "outputs": [],
   "source": []
  },
  {
   "cell_type": "code",
   "execution_count": null,
   "id": "2b8b2ecd-98c6-404a-884d-48006b9a1a31",
   "metadata": {},
   "outputs": [],
   "source": []
  },
  {
   "cell_type": "code",
   "execution_count": null,
   "id": "b9aa4e66-115f-4bd9-8511-bb1eb6b94751",
   "metadata": {},
   "outputs": [],
   "source": []
  }
 ],
 "metadata": {
  "kernelspec": {
   "display_name": "Python 3 (ipykernel)",
   "language": "python",
   "name": "python3"
  },
  "language_info": {
   "codemirror_mode": {
    "name": "ipython",
    "version": 3
   },
   "file_extension": ".py",
   "mimetype": "text/x-python",
   "name": "python",
   "nbconvert_exporter": "python",
   "pygments_lexer": "ipython3",
   "version": "3.8.15"
  }
 },
 "nbformat": 4,
 "nbformat_minor": 5
}
